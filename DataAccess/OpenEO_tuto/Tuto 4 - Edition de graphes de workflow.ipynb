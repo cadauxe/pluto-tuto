{
 "cells": [
  {
   "cell_type": "markdown",
   "id": "116a3a65-e69e-4a92-bd80-700bf01722d8",
   "metadata": {},
   "source": [
    "# Tutorial 4 : Getting Started with Workflow Graph Editing"
   ]
  },
  {
   "cell_type": "markdown",
   "id": "ecb89c66-6395-464e-a2c9-a53876e21b88",
   "metadata": {},
   "source": [
    "The openEO Web Editor is a web-based graphical user interface (GUI) designed to interact with the openEO API. It provides a user-friendly platform to perform various Earth Observation data processing tasks, such as loading datasets, defining and executing processes, and saving results.\n",
    "\n",
    "Users can create visual models using a drag-and-drop interface by linking different processing steps, represented as blocks. After having defined their processes and configured the parameters, they can execute the workflow directly within the Web Editor. The output data can be explored on interactive maps, visualized through graphs and saved in the desired format.\n",
    "\n",
    "The goal of this tutorial is to introduce users to the openEO Web Editor and its graphical interfaces, enabling them to design geospatial workflows without requiring programming expertise."
   ]
  },
  {
   "cell_type": "markdown",
   "id": "3939215f-2d01-41eb-84e0-ce9a0c146391",
   "metadata": {},
   "source": [
    "### Log in to the Web editor"
   ]
  },
  {
   "cell_type": "markdown",
   "id": "58970b46-9e29-4377-b937-2edea2052531",
   "metadata": {},
   "source": [
    "The openEO Web Editor can be accessed via the [server connexion page](https://editor.openeo.org/?server=openeo.vito.be). Please log in using EGI Check-in, as described in the first tutorial. Once logged in, the welcome page will appear.\n",
    "\n",
    "<div style=\"text-align: center;\">\n",
    "    <img src=\"images/tuto_graphs/welcome_web_editor.png\" alt=\"\" width=\"1000\"/>\n",
    "</div>"
   ]
  },
  {
   "cell_type": "markdown",
   "id": "686da463-4362-453a-ad42-d639ead2fed9",
   "metadata": {},
   "source": [
    "### Create a Batch job"
   ]
  },
  {
   "cell_type": "markdown",
   "id": "5db1938d-8884-4b13-bca7-62671ef53546",
   "metadata": {},
   "source": [
    "Start by *Creating Batch Job* by clicking on the icon in the *Data processing* window (located at the bottom right of the screen). A new window will appear where you can add a title to your batch job.\n",
    "\n",
    "\n",
    "<div style=\"text-align: center;\">\n",
    "    <img src=\"images/tuto_graphs/create_batch_job.png\" alt=\"\" width=\"1000\"/>\n",
    "</div>"
   ]
  },
  {
   "cell_type": "markdown",
   "id": "be88a950-c1a5-40fc-9932-5175401f480c",
   "metadata": {},
   "source": [
    "### Load collections"
   ]
  },
  {
   "cell_type": "markdown",
   "id": "019071be-b261-4da3-a859-5402c1ccc7b3",
   "metadata": {},
   "source": [
    "To load a collection, choose your data in the \"Collections\" dropdown menu and drop it in the *Visual model* window, in the example we choose the Sentinel-2 L2A dataset. The user can specify the bands needed, such as B02, B03, and B04, and define the spatial and temporal extents for the data.\n",
    "\n",
    "<div style=\"text-align: center;\">\n",
    "    <img src=\"images/tuto_graphs/select_collection.png\" alt=\"\" width=\"1000\"/>\n",
    "</div>"
   ]
  },
  {
   "cell_type": "markdown",
   "id": "f8092815-f0f7-49af-8aae-2a6681fb4532",
   "metadata": {},
   "source": [
    "The icons next to the data name allows to : \n",
    "\n",
    "- <img src=\"images/tuto_graphs/add_desc.png\" alt=\"\" width=\"20\"/> : Add description to the data\n",
    "- <img src=\"images/tuto_graphs/copy.png\" alt=\"\" width=\"20\"/> : Copy and paste the data\n",
    "- <img src=\"images/tuto_graphs/del.png\" alt=\"\" width=\"20\"/> :Delete the block data\n",
    "- <img src=\"images/tuto_graphs/desc.png\" alt=\"\" width=\"20\"/> :Get the description of the data\n",
    "- <img src=\"images/tuto_graphs/param.png\" alt=\"\" width=\"20\"/> :Change parameter values\n",
    "\n",
    "<div style=\"text-align: center;\">\n",
    "    <img src=\"images/tuto_graphs/data_icons.png\" alt=\"\" width=\"300\"/>\n",
    "</div>\n"
   ]
  },
  {
   "cell_type": "markdown",
   "id": "a436116a-e3c2-4867-abb2-623e6f7797cd",
   "metadata": {},
   "source": [
    "Click inside the *Sentinel2_L2A* box (or on the <img src=\"images/tuto_graphs/param.png\" alt=\"\" width=\"20\"/> icon) to configure a specific area of interest, temporal extent, bands, and properties.\n",
    "\n",
    "- To select the area of interest, you can either manually draw a bounding box, select \"GeoJSON\" to define a geometry, or choose a Vector data cube.\n",
    "\n",
    "<div style=\"text-align: center;\">\n",
    "    <img src=\"images/tuto_graphs/spatial_extent.png\" alt=\"\" width=\"1000\"/>\n",
    "</div>\n",
    "\n",
    "- Select the desired temporal extent for your data.\n",
    "\n",
    "- To choose specific bands, click on \"Array\" and select the bands you want to include in your collection.\n",
    "\n",
    "<div style=\"text-align: center;\">\n",
    "    <img src=\"images/tuto_graphs/band_selection.png\" alt=\"\" width=\"1000\"/>\n",
    "</div>"
   ]
  },
  {
   "cell_type": "markdown",
   "id": "94d9aa60-74bd-4ae9-880b-8d2b7de93096",
   "metadata": {},
   "source": [
    "You can view the code corresponding to your visual model by clicking on the *</> Code* tab.\n",
    "\n",
    "<div style=\"text-align: center;\">\n",
    "    <img src=\"images/tuto_graphs/corresponding_code.png\" alt=\"\" width=\"1000\"/>\n",
    "</div>"
   ]
  },
  {
   "cell_type": "markdown",
   "id": "ac7b9909-7923-42c8-bbb2-912ab388de30",
   "metadata": {},
   "source": [
    "## Adding a dimension to the dataset\n",
    "\n",
    "To give an example of processes that can be applied to the data, we will show how to add a dimension. \n",
    "\n",
    "First, drag the add_dimension process from the Processes dropdown menu and connect it to your data, as shown in the image below. Link the result checkbox of Sentinel2_L2A to the data checkbox of add_dimension.\n",
    "\n",
    "<div style=\"text-align: center;\">\n",
    "    <img src=\"images/tuto_graphs/linking_add_dimension.png\" alt=\"\" width=\"1000\"/>\n",
    "\n",
    "We notice that the checkboxs *name* and *label* are highlighted in red. Click inside the *add_dimension* box (or on the <img src=\"images/tuto_graphs/param.png\" alt=\"\" width=\"20\"/> icon) to configure these parameters. The type of the added dimension can be one of the following: \"spatial\", \"temporal\", \"bands\", or \"other\".\n",
    "\n",
    "\n",
    "<div style=\"text-align: center;\">\n",
    "    <img src=\"images/tuto_graphs/params_add_dimension.png\" alt=\"\" width=\"1000\"/>\n",
    "</div>"
   ]
  },
  {
   "cell_type": "markdown",
   "id": "c0bc6ea1-ff7a-497c-a155-a4598491d09e",
   "metadata": {},
   "source": [
    "### Saving results to various output formats"
   ]
  },
  {
   "cell_type": "markdown",
   "id": "8808214f-8ec7-4520-9a3c-8cc04b53f82e",
   "metadata": {},
   "source": [
    "To save the processed data to the desired output format, drag a *save_result* box from the *Processes* dropdown list. \n",
    "\n",
    "Connect the two boxes as shown before, link the result checkbox to the data checkbox of *save_result*.\n",
    "\n",
    "<div style=\"text-align: center;\">\n",
    "    <img src=\"images/tuto_graphs/linking_save_results.png\" alt=\"\" width=\"1000\"/>\n",
    "</div>\n",
    "\n",
    "We notice that the checkbox *format* is highlighted in red. Click inside the *save_result* box (or on the <img src=\"images/tuto_graphs/param.png\" alt=\"\" width=\"20\"/> icon) to configure this parameter, you may also have specify additional parameters.\n",
    "\n",
    "\n",
    "<div style=\"text-align: center;\">\n",
    "    <img src=\"images/tuto_graphs/saving.png\" alt=\"\" width=\"1000\"/>\n",
    "</div>\n",
    "\n",
    "Alternatively, you can drag the box that corresponds to on the desired output format in the *Export File Formats* dropdown list.\n",
    "\n",
    "<div style=\"text-align: center;\">\n",
    "    <img src=\"images/tuto_graphs/export_format.png\" alt=\"\" width=\"500\"/>\n",
    "</div>"
   ]
  },
  {
   "cell_type": "markdown",
   "id": "08864b15-8a7d-44fb-8b9c-5980d041b72b",
   "metadata": {},
   "source": [
    "### Run your first Batch job"
   ]
  },
  {
   "cell_type": "markdown",
   "id": "3b17bc6d-1323-4351-9b2b-9518a8b1b06a",
   "metadata": {},
   "source": [
    "When clicking on *Run now* in the *Data processing* tab for the first time, you may need to create an account on Terrascope. Visit [Terrascope sign in page](https://sso.terrascope.be/auth/realms/terrascope/protocol/openid-connect/auth?client_id=drupal-terrascope&response_type=code&scope=openid%20email%20profile&redirect_uri=https%3A//terrascope.be/fr/openid-connect/generic&state=B1pYoEFqx5zltHPHvLG4oC65Bz1_k8nR0r1WU-1-Um4#)  and process as follows :\n",
    "\n",
    "\n",
    "**Option 1 :** Click on *EduGain & social logins* and follow the instructions. \n",
    "\n",
    "<div style=\"text-align: center;\">\n",
    "    <img src=\"images/tuto_graphs/terrascope_create_acc.png\" alt=\"\" width=\"500\"/>\n",
    "</div>\n",
    "\n",
    "\n",
    "**Option 2 :**  If you already have an account but the error persists, log in and go to *My Terrascope* at the top right of the page, select *My user settings*, and click on *Federated Identity*. Then, click the *Add* button next to *EduGain & social logins*.\n",
    "\n",
    "<div style=\"text-align: center;\">\n",
    "    <img src=\"images/tuto_graphs/terrascope_add_edugain.png\" alt=\"\" width=\"700\"/>\n",
    "</div>\n",
    "\n",
    "Once this is done, return to the openEO Web Editor and run your project. The result will be automatically downloaded to your computer in the requested format, and a new window will appear in the web editor.\n",
    "\n",
    "<div style=\"text-align: center;\">\n",
    "    <img src=\"images/tuto_graphs/result_page.png\" alt=\"\" width=\"1000\"/>\n",
    "</div>"
   ]
  },
  {
   "cell_type": "markdown",
   "id": "cc13250c-07cd-4858-ae80-318a933bef40",
   "metadata": {},
   "source": [
    "### Import and export to JSON format"
   ]
  },
  {
   "cell_type": "markdown",
   "id": "3cdbfd87-b211-4f16-8040-7f16cc8ec5c7",
   "metadata": {},
   "source": [
    "In openEO, JSON format is used to define and structure the process graphs for Earth Observation data workflows. This format enables easy sharing and execution of workflows across different platforms and systems.\n",
    "\n",
    "To import a code in JSON format into the openEO Web Editor, click on the <img src=\"images/tuto_graphs/cloud.png\" alt=\"\" width=\"20\"/> icon of your the Batch job window. A new window will appear, allowing you to upload your JSON file. Select and import the JSON file into the Web Editor, you will see that the corresponding visual model will appear.\n",
    "\n",
    "<div style=\"text-align: center;\">\n",
    "    <img src=\"images/tuto_graphs/import_json.png\" alt=\"\" width=\"400\"/>\n",
    "</div>\n",
    "\n",
    "The web editor also offers the possibility to export your code to the JSON format by clicking on <img src=\"images/tuto_graphs/file_down.png\" alt=\"\" width=\"20\"/> icon. The JSON file will be automatically downoalded.\n"
   ]
  },
  {
   "cell_type": "markdown",
   "id": "d6e61379-dc1a-48ef-8d8d-b99f1bdc1014",
   "metadata": {},
   "source": [
    "### Export as source code"
   ]
  },
  {
   "cell_type": "markdown",
   "id": "1172513a-a647-421f-9837-6b73f99630b5",
   "metadata": {},
   "source": [
    "To export your visual model to another programming language, click on the <img src=\"images/tuto_graphs/file_right.png\" alt=\"\" width=\"20\"/> icon and choose the language you want among *Javascript*, *Python* and *R*.\n",
    "\n",
    "\n",
    "<div style=\"text-align: center;\">\n",
    "    <img src=\"images/tuto_graphs/export_code.png\" alt=\"\" width=\"1000\"/>\n",
    "</div>"
   ]
  },
  {
   "cell_type": "markdown",
   "id": "c330fb62-9f1e-4f46-ab25-0c7135a1c740",
   "metadata": {},
   "source": [
    "### Compute a NDVI with the Wizard functionnality"
   ]
  },
  {
   "cell_type": "markdown",
   "id": "84a23c4f-c02c-4c4c-b6d8-93760baff7aa",
   "metadata": {},
   "source": [
    "The Wizard functionality in the openEO Web Editor allows users to easily create and execute common workflows without needing to manually create the graph. To use the Wizard, click on the *Wizard* icon at the top right of the page.\n",
    "\n",
    "For this example, we will compute the NDVI. In the window that appears, select *Compute Spectral Indices*. \n",
    "\n",
    "<div style=\"text-align: center;\">\n",
    "    <img src=\"images/tuto_graphs/process_wizard.png\" alt=\"\" width=\"500\"/>\n",
    "</div>\n",
    "\n",
    "Then, you can choose your data source (in this case, Sentinel2 L2A), spectral index (in this case, NDVI), location, temporal coverage, temporal composite, and the desired output file format.\n",
    "\n",
    "On step 7, you can also choose whether to execute the workflow using batch jobs or synchronous processing. If your dataset is small and you need quick results, synchronous processing is recommended.\n",
    "\n",
    "If you select the *Batch jobs* option, a new batch job will be automatically created. \n",
    "\n",
    "<div style=\"text-align: center;\">\n",
    "    <img src=\"images/tuto_graphs/wizard_finish.png\" alt=\"\" width=\"1000\"/>\n",
    "</div>\n",
    "\n",
    "Once these options are selected, the Wizard will generate automatically the corresponding graph in the *Visual Model* tab. The image below displays the one that was created to compute the NDVI index. You can also see that a new batch job was created \"NDVI created by Wizard\" and is currently running, the result will be automatically downloaded after processing.\n",
    "\n",
    "<div style=\"text-align: center;\">\n",
    "    <img src=\"images/tuto_graphs/wizard_model.png\" alt=\"\" width=\"1000\"/>\n",
    "</div>"
   ]
  },
  {
   "cell_type": "markdown",
   "id": "2bceefaa-1060-4959-b046-26542086f70b",
   "metadata": {},
   "source": [
    "## A more complex example"
   ]
  },
  {
   "cell_type": "markdown",
   "id": "5604eaa5-912a-4d22-98e8-5863fcbaa9d4",
   "metadata": {},
   "source": [
    "The image below shows a more complex example created with the OpenEO Web editor.\n",
    "We start by loading Sentinel-2 data for a specific area and time range, selecting five bands (B02, B03, B04, B08 and SCL). The dataset is reduced to focus on the SCL band. We then apply a threshold for pixels with values greater than 7. Next, we reduce the temporal dimension by selecting the last image of the timeseries. The processed data is then saved as a GeoTIFF file.\n",
    "\n",
    "<div style=\"text-align: center;\">\n",
    "    <img src=\"images/tuto_graphs/complex_ex.png\" alt=\"\" width=\"1000\"/>\n",
    "</div>\n",
    "\n",
    "<div style=\"text-align: center;\">\n",
    "    <img src=\"images/tuto_graphs/red1.png\" alt=\"\" width=\"1000\"/>\n",
    "</div>\n",
    "\n",
    "<div style=\"text-align: center;\">\n",
    "    <img src=\"images/tuto_graphs/apply.png\" alt=\"\" width=\"1000\"/>\n",
    "</div>\n",
    "\n",
    "<div style=\"text-align: center;\">\n",
    "    <img src=\"images/tuto_graphs/red2.png\" alt=\"\" width=\"1000\"/>\n",
    "</div>"
   ]
  }
 ],
 "metadata": {
  "kernelspec": {
   "display_name": "Python 3 (ipykernel)",
   "language": "python",
   "name": "python3"
  },
  "language_info": {
   "codemirror_mode": {
    "name": "ipython",
    "version": 3
   },
   "file_extension": ".py",
   "mimetype": "text/x-python",
   "name": "python",
   "nbconvert_exporter": "python",
   "pygments_lexer": "ipython3",
   "version": "3.12.4"
  }
 },
 "nbformat": 4,
 "nbformat_minor": 5
}
