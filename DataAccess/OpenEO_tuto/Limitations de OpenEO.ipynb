{
 "cells": [
  {
   "cell_type": "markdown",
   "id": "7f3fa670-873b-4510-aaeb-43bf6e8c7478",
   "metadata": {},
   "source": [
    "# Limitations de openEO"
   ]
  },
  {
   "cell_type": "code",
   "execution_count": 1,
   "id": "9dbf1f2d-3651-427e-9286-6743d687c8ca",
   "metadata": {},
   "outputs": [],
   "source": [
    "import openeo\n",
    "from openeo.rest.connection import Connection"
   ]
  },
  {
   "cell_type": "markdown",
   "id": "04c98dfe-549a-4fee-bf95-f2f832ec4fe3",
   "metadata": {},
   "source": [
    "Pour utiliser OpenEO, on importe *openeo* et *openeo.rest.connection.Connection*. Ces modules permettent d'interagir avec l'API OpenEO et de communiquer avec les différents backends. On peut maintenant se connecter à un backend, effectuer des traitements sur les données, gérer les collections, sauvegarder les résultats sous différents formats, et bien plus encore. "
   ]
  },
  {
   "cell_type": "markdown",
   "id": "3c5bd40a-0499-4592-94d2-aad394ef3373",
   "metadata": {},
   "source": [
    "Les dépendances ci-dessous sont listées dans le *requirements.txt* du github d'[OpenEO](https://github.com/Open-EO/openeo-python-client), mais aucune version de bibliothèque n'est précisée. Cela peut entraîner des incompatibilités entre les différentes versions des bibliothèques, ce qui pourrait causer des erreurs lors de l'exécution de code. Les mises à jour des bibliothèques pourraient également rendre le code instable ou difficile à reproduire.\n",
    "\n",
    "- numpy\n",
    "- pandas\n",
    "- matplotlib\n",
    "- matplotlib-scalebar\n",
    "- GDAL\n",
    "\n",
    "Ici nous utilisons le backend OpenEO Copernicus Data Space Ecosystem, qui fournit des collections de données Sentinel et d'autres jeux de données issus de Copernicus. "
   ]
  },
  {
   "cell_type": "code",
   "execution_count": 7,
   "id": "ca113e92-2151-4fad-a6d3-bfce30a335d4",
   "metadata": {
    "scrolled": true
   },
   "outputs": [
    {
     "name": "stdout",
     "output_type": "stream",
     "text": [
      "Authenticated using refresh token.\n"
     ]
    },
    {
     "data": {
      "text/plain": [
       "<Connection to 'https://openeo.dataspace.copernicus.eu/openeo/1.2/' with OidcBearerAuth>"
      ]
     },
     "execution_count": 7,
     "metadata": {},
     "output_type": "execute_result"
    }
   ],
   "source": [
    "connection = openeo.connect(url=\"openeo.dataspace.copernicus.eu/\")\n",
    "connection.authenticate_oidc()"
   ]
  },
  {
   "cell_type": "markdown",
   "id": "22a2a9d8-94cf-442f-bafc-37c0a77ec638",
   "metadata": {},
   "source": [
    "### Gestion des erreurs et exceptions"
   ]
  },
  {
   "cell_type": "markdown",
   "id": "09698e42-56a6-436b-9754-3ba07dd21121",
   "metadata": {},
   "source": [
    "Les messages d’erreur retournés par les backends OpenEO peuvent être peu explicites, ce qui complique la compréhension et la résolution des problèmes. En effet, OpenEO renvoie des codes d'erreurs standardisés tels que 400 (Bad Request) ou 500 (Internal Server Error). Cependant, ces codes ne fournissent pas toujours suffisamment d'informations pour diagnostiquer le problème de manière efficace."
   ]
  },
  {
   "cell_type": "markdown",
   "id": "e7441803-7dbc-4f41-8910-967f471fb02e",
   "metadata": {},
   "source": [
    "##### Exemples d'erreurs d'OpenEO"
   ]
  },
  {
   "cell_type": "markdown",
   "id": "9ce98ad9-a552-4098-a34a-822970f30cac",
   "metadata": {},
   "source": [
    "On utilise pour nos exemples un datacube de données Sentinel-2."
   ]
  },
  {
   "cell_type": "code",
   "execution_count": 8,
   "id": "120cb88e-762a-4caf-9d9b-6df3f11d3524",
   "metadata": {},
   "outputs": [],
   "source": [
    "s2_timeseries = connection.load_collection(\n",
    "    \"SENTINEL2_L2A\",\n",
    "    temporal_extent=(\"2023-05-01\", \"2023-06-16\"),\n",
    "    spatial_extent={\n",
    "        \"west\":  2.213649,\n",
    "        \"south\": 43.450702,\n",
    "        \"east\": 2.251248,\n",
    "        \"north\":  43.472631,\n",
    "        \"crs\": \"EPSG:4326\",\n",
    "    },\n",
    "    bands=[\"B02\", \"B03\", \"B04\", \"B08\", \"SCL\"],\n",
    "    max_cloud_cover=50,\n",
    ");"
   ]
  },
  {
   "cell_type": "markdown",
   "id": "f33b8317-8ef3-48ad-990e-9b30b71bb838",
   "metadata": {},
   "source": [
    "Imaginons maintenant que l'utilisateur se trompe dans l'utilisation de la fonction *reduce_dimension()* et donne un mauvais *reducer*. Dans ce cas, aucune erreur ne se produit lors de la création du workflow :"
   ]
  },
  {
   "cell_type": "code",
   "execution_count": 9,
   "id": "71fe993a-4dc1-4b67-a05e-b0a052bf95ec",
   "metadata": {},
   "outputs": [],
   "source": [
    "s2_red = s2_timeseries.reduce_dimension(dimension=\"t\", reducer=\"bands\")"
   ]
  },
  {
   "cell_type": "markdown",
   "id": "a73c8518-a0be-41a6-9d1c-dccba51224c9",
   "metadata": {},
   "source": [
    "Cependant, lorsqu'on tente de sauvegarder le datacube avec la méthode *.download()*, l'erreur suivante apparaît :"
   ]
  },
  {
   "cell_type": "code",
   "execution_count": 10,
   "id": "e59cc6b9-d9c8-47b4-8b34-7ac2b0a8d1d6",
   "metadata": {},
   "outputs": [
    {
     "ename": "OpenEoApiError",
     "evalue": "[400] BadRequest: java.lang.IllegalArgumentException: Unsupported operation: bands (arguments: [data, context]) (ref: r-241226a6d61d4baabfbf2eb45b28dec2)",
     "output_type": "error",
     "traceback": [
      "\u001b[0;31m---------------------------------------------------------------------------\u001b[0m",
      "\u001b[0;31mOpenEoApiError\u001b[0m                            Traceback (most recent call last)",
      "Cell \u001b[0;32mIn[10], line 1\u001b[0m\n\u001b[0;32m----> 1\u001b[0m \u001b[43ms2_red\u001b[49m\u001b[38;5;241;43m.\u001b[39;49m\u001b[43mdownload\u001b[49m\u001b[43m(\u001b[49m\u001b[38;5;124;43m\"\u001b[39;49m\u001b[38;5;124;43moutput/s2_red.nc\u001b[39;49m\u001b[38;5;124;43m\"\u001b[39;49m\u001b[43m)\u001b[49m\n",
      "File \u001b[0;32m~/miniconda3/lib/python3.12/site-packages/openeo/rest/datacube.py:2370\u001b[0m, in \u001b[0;36mDataCube.download\u001b[0;34m(self, outputfile, format, options, validate, auto_add_save_result, additional, job_options)\u001b[0m\n\u001b[1;32m   2361\u001b[0m \u001b[38;5;28;01mif\u001b[39;00m auto_add_save_result:\n\u001b[1;32m   2362\u001b[0m     cube \u001b[38;5;241m=\u001b[39m _ensure_save_result(\n\u001b[1;32m   2363\u001b[0m         cube\u001b[38;5;241m=\u001b[39mcube,\n\u001b[1;32m   2364\u001b[0m         \u001b[38;5;28mformat\u001b[39m\u001b[38;5;241m=\u001b[39m\u001b[38;5;28mformat\u001b[39m,\n\u001b[0;32m   (...)\u001b[0m\n\u001b[1;32m   2368\u001b[0m         method\u001b[38;5;241m=\u001b[39m\u001b[38;5;124m\"\u001b[39m\u001b[38;5;124mDataCube.download()\u001b[39m\u001b[38;5;124m\"\u001b[39m,\n\u001b[1;32m   2369\u001b[0m     )\n\u001b[0;32m-> 2370\u001b[0m \u001b[38;5;28;01mreturn\u001b[39;00m \u001b[38;5;28;43mself\u001b[39;49m\u001b[38;5;241;43m.\u001b[39;49m\u001b[43m_connection\u001b[49m\u001b[38;5;241;43m.\u001b[39;49m\u001b[43mdownload\u001b[49m\u001b[43m(\u001b[49m\n\u001b[1;32m   2371\u001b[0m \u001b[43m    \u001b[49m\u001b[43mcube\u001b[49m\u001b[38;5;241;43m.\u001b[39;49m\u001b[43mflat_graph\u001b[49m\u001b[43m(\u001b[49m\u001b[43m)\u001b[49m\u001b[43m,\u001b[49m\u001b[43m \u001b[49m\u001b[43moutputfile\u001b[49m\u001b[43m,\u001b[49m\u001b[43m \u001b[49m\u001b[43mvalidate\u001b[49m\u001b[38;5;241;43m=\u001b[39;49m\u001b[43mvalidate\u001b[49m\u001b[43m,\u001b[49m\u001b[43m \u001b[49m\u001b[43madditional\u001b[49m\u001b[38;5;241;43m=\u001b[39;49m\u001b[43madditional\u001b[49m\u001b[43m,\u001b[49m\u001b[43m \u001b[49m\u001b[43mjob_options\u001b[49m\u001b[38;5;241;43m=\u001b[39;49m\u001b[43mjob_options\u001b[49m\n\u001b[1;32m   2372\u001b[0m \u001b[43m\u001b[49m\u001b[43m)\u001b[49m\n",
      "File \u001b[0;32m~/miniconda3/lib/python3.12/site-packages/openeo/rest/connection.py:1742\u001b[0m, in \u001b[0;36mConnection.download\u001b[0;34m(self, graph, outputfile, timeout, validate, chunk_size, additional, job_options)\u001b[0m\n\u001b[1;32m   1738\u001b[0m pg_with_metadata \u001b[38;5;241m=\u001b[39m \u001b[38;5;28mself\u001b[39m\u001b[38;5;241m.\u001b[39m_build_request_with_process_graph(\n\u001b[1;32m   1739\u001b[0m     process_graph\u001b[38;5;241m=\u001b[39mgraph, additional\u001b[38;5;241m=\u001b[39madditional, job_options\u001b[38;5;241m=\u001b[39mjob_options\n\u001b[1;32m   1740\u001b[0m )\n\u001b[1;32m   1741\u001b[0m \u001b[38;5;28mself\u001b[39m\u001b[38;5;241m.\u001b[39m_preflight_validation(pg_with_metadata\u001b[38;5;241m=\u001b[39mpg_with_metadata, validate\u001b[38;5;241m=\u001b[39mvalidate)\n\u001b[0;32m-> 1742\u001b[0m response \u001b[38;5;241m=\u001b[39m \u001b[38;5;28;43mself\u001b[39;49m\u001b[38;5;241;43m.\u001b[39;49m\u001b[43mpost\u001b[49m\u001b[43m(\u001b[49m\n\u001b[1;32m   1743\u001b[0m \u001b[43m    \u001b[49m\u001b[43mpath\u001b[49m\u001b[38;5;241;43m=\u001b[39;49m\u001b[38;5;124;43m\"\u001b[39;49m\u001b[38;5;124;43m/result\u001b[39;49m\u001b[38;5;124;43m\"\u001b[39;49m\u001b[43m,\u001b[49m\n\u001b[1;32m   1744\u001b[0m \u001b[43m    \u001b[49m\u001b[43mjson\u001b[49m\u001b[38;5;241;43m=\u001b[39;49m\u001b[43mpg_with_metadata\u001b[49m\u001b[43m,\u001b[49m\n\u001b[1;32m   1745\u001b[0m \u001b[43m    \u001b[49m\u001b[43mexpected_status\u001b[49m\u001b[38;5;241;43m=\u001b[39;49m\u001b[38;5;241;43m200\u001b[39;49m\u001b[43m,\u001b[49m\n\u001b[1;32m   1746\u001b[0m \u001b[43m    \u001b[49m\u001b[43mstream\u001b[49m\u001b[38;5;241;43m=\u001b[39;49m\u001b[38;5;28;43;01mTrue\u001b[39;49;00m\u001b[43m,\u001b[49m\n\u001b[1;32m   1747\u001b[0m \u001b[43m    \u001b[49m\u001b[43mtimeout\u001b[49m\u001b[38;5;241;43m=\u001b[39;49m\u001b[43mtimeout\u001b[49m\u001b[43m \u001b[49m\u001b[38;5;129;43;01mor\u001b[39;49;00m\u001b[43m \u001b[49m\u001b[43mDEFAULT_TIMEOUT_SYNCHRONOUS_EXECUTE\u001b[49m\u001b[43m,\u001b[49m\n\u001b[1;32m   1748\u001b[0m \u001b[43m\u001b[49m\u001b[43m)\u001b[49m\n\u001b[1;32m   1750\u001b[0m \u001b[38;5;28;01mif\u001b[39;00m outputfile \u001b[38;5;129;01mis\u001b[39;00m \u001b[38;5;129;01mnot\u001b[39;00m \u001b[38;5;28;01mNone\u001b[39;00m:\n\u001b[1;32m   1751\u001b[0m     \u001b[38;5;28;01mwith\u001b[39;00m Path(outputfile)\u001b[38;5;241m.\u001b[39mopen(mode\u001b[38;5;241m=\u001b[39m\u001b[38;5;124m\"\u001b[39m\u001b[38;5;124mwb\u001b[39m\u001b[38;5;124m\"\u001b[39m) \u001b[38;5;28;01mas\u001b[39;00m f:\n",
      "File \u001b[0;32m~/miniconda3/lib/python3.12/site-packages/openeo/rest/connection.py:267\u001b[0m, in \u001b[0;36mRestApiConnection.post\u001b[0;34m(self, path, json, **kwargs)\u001b[0m\n\u001b[1;32m    259\u001b[0m \u001b[38;5;28;01mdef\u001b[39;00m \u001b[38;5;21mpost\u001b[39m(\u001b[38;5;28mself\u001b[39m, path: \u001b[38;5;28mstr\u001b[39m, json: Optional[\u001b[38;5;28mdict\u001b[39m] \u001b[38;5;241m=\u001b[39m \u001b[38;5;28;01mNone\u001b[39;00m, \u001b[38;5;241m*\u001b[39m\u001b[38;5;241m*\u001b[39mkwargs) \u001b[38;5;241m-\u001b[39m\u001b[38;5;241m>\u001b[39m Response:\n\u001b[1;32m    260\u001b[0m \u001b[38;5;250m    \u001b[39m\u001b[38;5;124;03m\"\"\"\u001b[39;00m\n\u001b[1;32m    261\u001b[0m \u001b[38;5;124;03m    Do POST request to REST API.\u001b[39;00m\n\u001b[1;32m    262\u001b[0m \n\u001b[0;32m   (...)\u001b[0m\n\u001b[1;32m    265\u001b[0m \u001b[38;5;124;03m    :return: response: Response\u001b[39;00m\n\u001b[1;32m    266\u001b[0m \u001b[38;5;124;03m    \"\"\"\u001b[39;00m\n\u001b[0;32m--> 267\u001b[0m     \u001b[38;5;28;01mreturn\u001b[39;00m \u001b[38;5;28;43mself\u001b[39;49m\u001b[38;5;241;43m.\u001b[39;49m\u001b[43mrequest\u001b[49m\u001b[43m(\u001b[49m\u001b[38;5;124;43m\"\u001b[39;49m\u001b[38;5;124;43mpost\u001b[39;49m\u001b[38;5;124;43m\"\u001b[39;49m\u001b[43m,\u001b[49m\u001b[43m \u001b[49m\u001b[43mpath\u001b[49m\u001b[38;5;241;43m=\u001b[39;49m\u001b[43mpath\u001b[49m\u001b[43m,\u001b[49m\u001b[43m \u001b[49m\u001b[43mjson\u001b[49m\u001b[38;5;241;43m=\u001b[39;49m\u001b[43mjson\u001b[49m\u001b[43m,\u001b[49m\u001b[43m \u001b[49m\u001b[43mallow_redirects\u001b[49m\u001b[38;5;241;43m=\u001b[39;49m\u001b[38;5;28;43;01mFalse\u001b[39;49;00m\u001b[43m,\u001b[49m\u001b[43m \u001b[49m\u001b[38;5;241;43m*\u001b[39;49m\u001b[38;5;241;43m*\u001b[39;49m\u001b[43mkwargs\u001b[49m\u001b[43m)\u001b[49m\n",
      "File \u001b[0;32m~/miniconda3/lib/python3.12/site-packages/openeo/rest/connection.py:849\u001b[0m, in \u001b[0;36mConnection.request\u001b[0;34m(self, method, path, headers, auth, check_error, expected_status, **kwargs)\u001b[0m\n\u001b[1;32m    842\u001b[0m     \u001b[38;5;28;01mreturn\u001b[39;00m \u001b[38;5;28msuper\u001b[39m(Connection, \u001b[38;5;28mself\u001b[39m)\u001b[38;5;241m.\u001b[39mrequest(\n\u001b[1;32m    843\u001b[0m         method\u001b[38;5;241m=\u001b[39mmethod, path\u001b[38;5;241m=\u001b[39mpath, headers\u001b[38;5;241m=\u001b[39mheaders, auth\u001b[38;5;241m=\u001b[39mauth,\n\u001b[1;32m    844\u001b[0m         check_error\u001b[38;5;241m=\u001b[39mcheck_error, expected_status\u001b[38;5;241m=\u001b[39mexpected_status, \u001b[38;5;241m*\u001b[39m\u001b[38;5;241m*\u001b[39mkwargs,\n\u001b[1;32m    845\u001b[0m     )\n\u001b[1;32m    847\u001b[0m \u001b[38;5;28;01mtry\u001b[39;00m:\n\u001b[1;32m    848\u001b[0m     \u001b[38;5;66;03m# Initial request attempt\u001b[39;00m\n\u001b[0;32m--> 849\u001b[0m     \u001b[38;5;28;01mreturn\u001b[39;00m \u001b[43m_request\u001b[49m\u001b[43m(\u001b[49m\u001b[43m)\u001b[49m\n\u001b[1;32m    850\u001b[0m \u001b[38;5;28;01mexcept\u001b[39;00m OpenEoApiError \u001b[38;5;28;01mas\u001b[39;00m api_exc:\n\u001b[1;32m    851\u001b[0m     \u001b[38;5;28;01mif\u001b[39;00m api_exc\u001b[38;5;241m.\u001b[39mhttp_status_code \u001b[38;5;129;01min\u001b[39;00m {\u001b[38;5;241m401\u001b[39m, \u001b[38;5;241m403\u001b[39m} \u001b[38;5;129;01mand\u001b[39;00m api_exc\u001b[38;5;241m.\u001b[39mcode \u001b[38;5;241m==\u001b[39m \u001b[38;5;124m\"\u001b[39m\u001b[38;5;124mTokenInvalid\u001b[39m\u001b[38;5;124m\"\u001b[39m:\n\u001b[1;32m    852\u001b[0m         \u001b[38;5;66;03m# Auth token expired: can we refresh?\u001b[39;00m\n",
      "File \u001b[0;32m~/miniconda3/lib/python3.12/site-packages/openeo/rest/connection.py:842\u001b[0m, in \u001b[0;36mConnection.request.<locals>._request\u001b[0;34m()\u001b[0m\n\u001b[1;32m    841\u001b[0m \u001b[38;5;28;01mdef\u001b[39;00m \u001b[38;5;21m_request\u001b[39m():\n\u001b[0;32m--> 842\u001b[0m     \u001b[38;5;28;01mreturn\u001b[39;00m \u001b[38;5;28;43msuper\u001b[39;49m\u001b[43m(\u001b[49m\u001b[43mConnection\u001b[49m\u001b[43m,\u001b[49m\u001b[43m \u001b[49m\u001b[38;5;28;43mself\u001b[39;49m\u001b[43m)\u001b[49m\u001b[38;5;241;43m.\u001b[39;49m\u001b[43mrequest\u001b[49m\u001b[43m(\u001b[49m\n\u001b[1;32m    843\u001b[0m \u001b[43m        \u001b[49m\u001b[43mmethod\u001b[49m\u001b[38;5;241;43m=\u001b[39;49m\u001b[43mmethod\u001b[49m\u001b[43m,\u001b[49m\u001b[43m \u001b[49m\u001b[43mpath\u001b[49m\u001b[38;5;241;43m=\u001b[39;49m\u001b[43mpath\u001b[49m\u001b[43m,\u001b[49m\u001b[43m \u001b[49m\u001b[43mheaders\u001b[49m\u001b[38;5;241;43m=\u001b[39;49m\u001b[43mheaders\u001b[49m\u001b[43m,\u001b[49m\u001b[43m \u001b[49m\u001b[43mauth\u001b[49m\u001b[38;5;241;43m=\u001b[39;49m\u001b[43mauth\u001b[49m\u001b[43m,\u001b[49m\n\u001b[1;32m    844\u001b[0m \u001b[43m        \u001b[49m\u001b[43mcheck_error\u001b[49m\u001b[38;5;241;43m=\u001b[39;49m\u001b[43mcheck_error\u001b[49m\u001b[43m,\u001b[49m\u001b[43m \u001b[49m\u001b[43mexpected_status\u001b[49m\u001b[38;5;241;43m=\u001b[39;49m\u001b[43mexpected_status\u001b[49m\u001b[43m,\u001b[49m\u001b[43m \u001b[49m\u001b[38;5;241;43m*\u001b[39;49m\u001b[38;5;241;43m*\u001b[39;49m\u001b[43mkwargs\u001b[49m\u001b[43m,\u001b[49m\n\u001b[1;32m    845\u001b[0m \u001b[43m    \u001b[49m\u001b[43m)\u001b[49m\n",
      "File \u001b[0;32m~/miniconda3/lib/python3.12/site-packages/openeo/rest/connection.py:196\u001b[0m, in \u001b[0;36mRestApiConnection.request\u001b[0;34m(self, method, path, params, headers, auth, check_error, expected_status, **kwargs)\u001b[0m\n\u001b[1;32m    194\u001b[0m expected_status \u001b[38;5;241m=\u001b[39m ensure_list(expected_status) \u001b[38;5;28;01mif\u001b[39;00m expected_status \u001b[38;5;28;01melse\u001b[39;00m []\n\u001b[1;32m    195\u001b[0m \u001b[38;5;28;01mif\u001b[39;00m check_error \u001b[38;5;129;01mand\u001b[39;00m status \u001b[38;5;241m>\u001b[39m\u001b[38;5;241m=\u001b[39m \u001b[38;5;241m400\u001b[39m \u001b[38;5;129;01mand\u001b[39;00m status \u001b[38;5;129;01mnot\u001b[39;00m \u001b[38;5;129;01min\u001b[39;00m expected_status:\n\u001b[0;32m--> 196\u001b[0m     \u001b[38;5;28;43mself\u001b[39;49m\u001b[38;5;241;43m.\u001b[39;49m\u001b[43m_raise_api_error\u001b[49m\u001b[43m(\u001b[49m\u001b[43mresp\u001b[49m\u001b[43m)\u001b[49m\n\u001b[1;32m    197\u001b[0m \u001b[38;5;28;01mif\u001b[39;00m expected_status \u001b[38;5;129;01mand\u001b[39;00m status \u001b[38;5;129;01mnot\u001b[39;00m \u001b[38;5;129;01min\u001b[39;00m expected_status:\n\u001b[1;32m    198\u001b[0m     \u001b[38;5;28;01mraise\u001b[39;00m OpenEoRestError(\u001b[38;5;124m\"\u001b[39m\u001b[38;5;124mGot status code \u001b[39m\u001b[38;5;132;01m{s!r}\u001b[39;00m\u001b[38;5;124m for `\u001b[39m\u001b[38;5;132;01m{m}\u001b[39;00m\u001b[38;5;124m \u001b[39m\u001b[38;5;132;01m{p}\u001b[39;00m\u001b[38;5;124m` (expected \u001b[39m\u001b[38;5;132;01m{e!r}\u001b[39;00m\u001b[38;5;124m) with body \u001b[39m\u001b[38;5;132;01m{body}\u001b[39;00m\u001b[38;5;124m\"\u001b[39m\u001b[38;5;241m.\u001b[39mformat(\n\u001b[1;32m    199\u001b[0m         m\u001b[38;5;241m=\u001b[39mmethod\u001b[38;5;241m.\u001b[39mupper(), p\u001b[38;5;241m=\u001b[39mpath, s\u001b[38;5;241m=\u001b[39mstatus, e\u001b[38;5;241m=\u001b[39mexpected_status, body\u001b[38;5;241m=\u001b[39mresp\u001b[38;5;241m.\u001b[39mtext)\n\u001b[1;32m    200\u001b[0m     )\n",
      "File \u001b[0;32m~/miniconda3/lib/python3.12/site-packages/openeo/rest/connection.py:216\u001b[0m, in \u001b[0;36mRestApiConnection._raise_api_error\u001b[0;34m(self, response)\u001b[0m\n\u001b[1;32m    214\u001b[0m     error_message \u001b[38;5;241m=\u001b[39m info\u001b[38;5;241m.\u001b[39mget(\u001b[38;5;124m\"\u001b[39m\u001b[38;5;124mmessage\u001b[39m\u001b[38;5;124m\"\u001b[39m)\n\u001b[1;32m    215\u001b[0m     \u001b[38;5;28;01mif\u001b[39;00m error_code \u001b[38;5;129;01mand\u001b[39;00m \u001b[38;5;28misinstance\u001b[39m(error_code, \u001b[38;5;28mstr\u001b[39m) \u001b[38;5;129;01mand\u001b[39;00m error_message \u001b[38;5;129;01mand\u001b[39;00m \u001b[38;5;28misinstance\u001b[39m(error_message, \u001b[38;5;28mstr\u001b[39m):\n\u001b[0;32m--> 216\u001b[0m         \u001b[38;5;28;01mraise\u001b[39;00m OpenEoApiError(\n\u001b[1;32m    217\u001b[0m             http_status_code\u001b[38;5;241m=\u001b[39mstatus_code,\n\u001b[1;32m    218\u001b[0m             code\u001b[38;5;241m=\u001b[39merror_code,\n\u001b[1;32m    219\u001b[0m             message\u001b[38;5;241m=\u001b[39merror_message,\n\u001b[1;32m    220\u001b[0m             \u001b[38;5;28mid\u001b[39m\u001b[38;5;241m=\u001b[39minfo\u001b[38;5;241m.\u001b[39mget(\u001b[38;5;124m\"\u001b[39m\u001b[38;5;124mid\u001b[39m\u001b[38;5;124m\"\u001b[39m),\n\u001b[1;32m    221\u001b[0m             url\u001b[38;5;241m=\u001b[39minfo\u001b[38;5;241m.\u001b[39mget(\u001b[38;5;124m\"\u001b[39m\u001b[38;5;124murl\u001b[39m\u001b[38;5;124m\"\u001b[39m),\n\u001b[1;32m    222\u001b[0m         )\n\u001b[1;32m    224\u001b[0m \u001b[38;5;66;03m# Failed to parse it as a compliant openEO API error: show body as-is in the exception.\u001b[39;00m\n\u001b[1;32m    225\u001b[0m text \u001b[38;5;241m=\u001b[39m response\u001b[38;5;241m.\u001b[39mtext\n",
      "\u001b[0;31mOpenEoApiError\u001b[0m: [400] BadRequest: java.lang.IllegalArgumentException: Unsupported operation: bands (arguments: [data, context]) (ref: r-241226a6d61d4baabfbf2eb45b28dec2)"
     ]
    }
   ],
   "source": [
    "s2_red.download(\"output/s2_red.nc\")"
   ]
  },
  {
   "cell_type": "markdown",
   "id": "fc274827-2297-427b-89d8-1f16273f243c",
   "metadata": {},
   "source": [
    "Cette erreur indique que l'opération *bands* n'est pas supportée. Cependant, celle-ci ne permet pas d'identifier le traitement qui est la cause de l'erreur. Le message d'erreur devrait spécifier que le problème provient de la fonction reduce_dimension() et de l'argument reducer incorrect."
   ]
  },
  {
   "cell_type": "markdown",
   "id": "c77afaee-9eda-4be9-977a-aaa2f46ea58a",
   "metadata": {},
   "source": [
    "### Identification des librairies déployées sur un backend "
   ]
  },
  {
   "cell_type": "markdown",
   "id": "fa38ff36-0825-4eae-8d49-8a0c42fc0b42",
   "metadata": {},
   "source": [
    "Pour identifier les librairies déployées sur un backend il est possible d'utiliser des fonctions définies par l'utilisateur (UDF). Elles permettent d'exécuter du code Python personnalisé directement sur le backend. \n",
    "\n",
    "On peut par exemple utiliser la librairie *importlib.metadata*, qui permet d'interroger les métadonnées des packages Python installés."
   ]
  },
  {
   "cell_type": "markdown",
   "id": "3a4fc6d3-c034-43ed-8edd-9bb781e8145a",
   "metadata": {},
   "source": [
    "##### Exemple d'utilisation de UDF"
   ]
  },
  {
   "cell_type": "markdown",
   "id": "481c09e6-2ce1-41ad-b490-3caf47f62991",
   "metadata": {},
   "source": [
    "Dans cet exemple, on re-scale notre datacube en utilisant une UDF. L'opération *.apply()* exécute l'UDF sur le datacube s2_timeseries, et on télécharge ensuite le résultat dans un fichier au format NetCDF."
   ]
  },
  {
   "cell_type": "code",
   "execution_count": null,
   "id": "5b8d22b9-b14c-470b-8c04-08631af3e4ca",
   "metadata": {},
   "outputs": [],
   "source": [
    "udf = openeo.UDF(\"\"\"\n",
    "import xarray\n",
    "def apply_datacube(cube: xarray.DataArray, context: dict) -> xarray.DataArray:\n",
    "    cube.values = 0.0005 * cube.values\n",
    "    return cube\n",
    "\"\"\")\n",
    "\n",
    "s2_rescaled = s2_timeseries.apply(process=udf)\n",
    "\n",
    "s2_rescaled.download(\"s2_rescaled.nc\")"
   ]
  }
 ],
 "metadata": {
  "kernelspec": {
   "display_name": "Python 3 (ipykernel)",
   "language": "python",
   "name": "python3"
  },
  "language_info": {
   "codemirror_mode": {
    "name": "ipython",
    "version": 3
   },
   "file_extension": ".py",
   "mimetype": "text/x-python",
   "name": "python",
   "nbconvert_exporter": "python",
   "pygments_lexer": "ipython3",
   "version": "3.12.4"
  }
 },
 "nbformat": 4,
 "nbformat_minor": 5
}
